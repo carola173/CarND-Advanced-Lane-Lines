{
 "cells": [
  {
   "cell_type": "markdown",
   "metadata": {},
   "source": [
    "# Step 1 : Camera Caliberation"
   ]
  },
  {
   "cell_type": "code",
   "execution_count": 1,
   "metadata": {},
   "outputs": [],
   "source": [
    "import numpy as np\n",
    "import cv2\n",
    "import glob\n",
    "import matplotlib.pyplot as plt\n",
    "import matplotlib.image as mpimg\n",
    "from moviepy.editor import VideoFileClip\n",
    "from collections import deque\n",
    "%matplotlib inline"
   ]
  },
  {
   "cell_type": "markdown",
   "metadata": {},
   "source": [
    "# Image Paths"
   ]
  },
  {
   "cell_type": "code",
   "execution_count": null,
   "metadata": {},
   "outputs": [],
   "source": [
    "chess_image_list = glob.glob('camera_cal/calibration*.jpg')\n",
    "images_list = glob.glob('test_images/test*.jpg')"
   ]
  },
  {
   "cell_type": "code",
   "execution_count": null,
   "metadata": {},
   "outputs": [],
   "source": [
    "def plot_images(img_1,img_2,row_no=1,col_no=2,size=(9,6),title_ax1=\"Original Image\",title_ax2=\"Changed Image\",gray=False):\n",
    "    f, (ax1, ax2) = plt.subplots(row_no, col_no, figsize=size)\n",
    "    ax1.imshow(img_1)\n",
    "    ax1.set_title(title_ax1, fontsize=20)\n",
    "    if gray:\n",
    "        ax2.imshow(img_2,cmap='gray')\n",
    "    else:\n",
    "        ax2.imshow(img_2)\n",
    "    ax2.set_title(title_ax2, fontsize=20)"
   ]
  },
  {
   "cell_type": "code",
   "execution_count": null,
   "metadata": {},
   "outputs": [],
   "source": [
    "def camera_calibration(image_list,nx=9,ny=6):\n",
    "    objectPoints = np.zeros((6*9,3), np.float32)\n",
    "    objectPoints[:,:2] = np.mgrid[0:9, 0:6].T.reshape(-1,2)\n",
    "    objpoints = [] # 3d points in real world space\n",
    "    imgpoints = [] # 2d points in image plane.\n",
    "    #image_list = glob.glob('camera_cal/calibration*.jpg')\n",
    "    i =1\n",
    "    for fname in image_list:\n",
    "            #image_name = cal_image.split('/', 1 )[1]\n",
    "            file_name='test'\n",
    "            img = cv2.imread(fname)\n",
    "            gray_image = cv2.cvtColor(img, cv2.COLOR_BGR2GRAY)\n",
    "            # Find the chessboard corners\n",
    "            ret, corners = cv2.findChessboardCorners(gray_image, (nx,ny), None)\n",
    "            # If found, add object points, image points\n",
    "            if ret == True:\n",
    "                objpoints.append(objectPoints)\n",
    "                imgpoints.append(corners)\n",
    "                # Draw and display the corners\n",
    "                cv2.drawChessboardCorners(img, (9,6), corners, ret)\n",
    "                plot_images(cv2.cvtColor(mpimg.imread(fname), cv2.COLOR_BGR2RGB),cv2.cvtColor(img, cv2.COLOR_BGR2RGB),1,2,(9,6),\"Original Image\",title_ax2=\"Changed Image\")\n",
    "            else:\n",
    "                print(\"This image doesn't have the corner of (9,6)\")\n",
    "    return objpoints,imgpoints"
   ]
  },
  {
   "cell_type": "code",
   "execution_count": null,
   "metadata": {},
   "outputs": [],
   "source": [
    "objpoints,imgpoints=camera_calibration(chess_image_list,9,6)"
   ]
  },
  {
   "cell_type": "markdown",
   "metadata": {},
   "source": [
    "# 2. Undistorting Image "
   ]
  },
  {
   "cell_type": "code",
   "execution_count": null,
   "metadata": {},
   "outputs": [],
   "source": [
    "# Remove distortion from images\n",
    "def remove_distortion(image,read_flag=False):\n",
    "    if read_flag:\n",
    "        img = cv2.imread(image)\n",
    "    else:\n",
    "        img=image\n",
    "    img_size = (img.shape[1], img.shape[0])\n",
    "    ret, mtx, dist, rvecs, tvecs = cv2.calibrateCamera(objpoints, imgpoints, img_size, None, None)\n",
    "    remove_dist = cv2.undistort(img, mtx, dist, None, mtx)\n",
    "    return remove_dist"
   ]
  },
  {
   "cell_type": "code",
   "execution_count": null,
   "metadata": {},
   "outputs": [],
   "source": [
    "for image in images_list:\n",
    "    remove_dist=remove_distortion(image,True)\n",
    "    plot_images(cv2.cvtColor(cv2.imread(image), cv2.COLOR_BGR2RGB),cv2.cvtColor(remove_dist, cv2.COLOR_BGR2RGB),1,2,(9,6),\"Original Image\",\"Calibrate + Undistorted Image\")"
   ]
  },
  {
   "cell_type": "markdown",
   "metadata": {},
   "source": [
    "# Testing"
   ]
  },
  {
   "cell_type": "code",
   "execution_count": 5,
   "metadata": {},
   "outputs": [
    {
     "name": "stdout",
     "output_type": "stream",
     "text": [
      "[[ 13  14 103 ... 104 105 105]\n",
      " [ 14 103 103 ... 103 104 104]\n",
      " [103 102 103 ... 103 104 104]\n",
      " ...\n",
      " [  5   5   5 ...   7   7   7]\n",
      " [  5   5   5 ...   7   7   7]\n",
      " [  5   5   8 ...   7   7   7]]\n",
      "uint8\n"
     ]
    },
    {
     "data": {
      "image/png": "[encoded data removed]",
      "text/plain": [
       "<matplotlib.figure.Figure at 0x244543a6240>"
      ]
     },
     "metadata": {},
     "output_type": "display_data"
    }
   ],
   "source": [
    "test = glob.glob('test_images/test1.jpg')\n",
    "#img = cv2.imread(test[0])\n",
    "img=mpimg.imread(test[0])\n",
    "hls = cv2.cvtColor(img, cv2.COLOR_RGB2HLS)\n",
    "h=hls[:,:,0]\n",
    "l=hls[:,:,1]\n",
    "s=hls[:,:,2]\n",
    "thresh_h=(0,90)\n",
    "thresh_s=(170,255)\n",
    "binary = np.zeros_like(h)\n",
    "binary[(h > thresh_h[0]) & (h <= thresh_h[1])] = 1\n",
    "binary_s = np.zeros_like(s)\n",
    "binary_s[(s > thresh_s[0]) & (s <= thresh_s[1])] = 1\n",
    "f, (ax1, ax2) = plt.subplots(1, 2, figsize=(24,9))\n",
    "print(h)\n",
    "ax1.imshow(binary,cmap='gray')\n",
    "ax1.set_title(\"hue image\", fontsize=20)\n",
    "ax2.imshow(binary_s,cmap='gray')\n",
    "ax2.set_title(\"light image\", fontsize=20)\n",
    "#ax3.imshow(s)\n",
    "#ax3.set_title(\"sat image\", fontsize=20)\n",
    "print(binary.dtype)"
   ]
  },
  {
   "cell_type": "markdown",
   "metadata": {},
   "source": [
    "# 3. Color Channel Filtering "
   ]
  },
  {
   "cell_type": "code",
   "execution_count": null,
   "metadata": {},
   "outputs": [],
   "source": [
    "def color_channel_filtering(img,channel=\"S\",read_flag=False):   \n",
    "    image = remove_distortion(img,read_flag)\n",
    "    if channel == \"S\":\n",
    "        hls = cv2.cvtColor(image, cv2.COLOR_RGB2HLS)\n",
    "        S = hls[:,:,2]\n",
    "        thresh = (90, 255)\n",
    "        binary = np.zeros_like(S)\n",
    "        binary[(S > thresh[0]) & (S <= thresh[1])] = 1\n",
    "    elif channel ==\"H\":\n",
    "        hls = cv2.cvtColor(image, cv2.COLOR_RGB2HLS)\n",
    "        H = hls[:,:,0]\n",
    "        thresh = (15, 100)\n",
    "        binary = np.zeros_like(H)\n",
    "        binary[(H > thresh[0]) & (H <= thresh[1])] = 1\n",
    "    elif channel ==\"L\":\n",
    "        hls = cv2.cvtColor(image, cv2.COLOR_RGB2HLS)\n",
    "        L = hls[:,:,1]\n",
    "        thresh = (15, 100)\n",
    "        binary = np.zeros_like(H)\n",
    "        binary[(H > thresh[0]) & (H <= thresh[1])] = 1\n",
    "    elif channel ==\"Gray\":\n",
    "        gray = cv2.cvtColor(image, cv2.COLOR_RGB2GRAY)\n",
    "        thresh = (180, 255)\n",
    "        binary = np.zeros_like(gray)\n",
    "        binary[(gray > thresh[0]) & (gray <= thresh[1])] = 1\n",
    "    elif channel ==\"R\":\n",
    "        R = image[:,:,0]\n",
    "        thresh = (200, 255)\n",
    "        binary = np.zeros_like(R)\n",
    "        binary[(R > thresh[0]) & (R <= thresh[1])] = 1\n",
    "    elif channel ==\"C\":\n",
    "        hls = cv2.cvtColor(image, cv2.COLOR_BGR2HLS)\n",
    "        ## White Color\n",
    "        lower_white = np.array([0,200,0], dtype=np.uint8)\n",
    "        upper_white = np.array([255,255,255], dtype=np.uint8)\n",
    "        white_mask = cv2.inRange(hls, lower_white, upper_white)\n",
    "        ## Yellow Color\n",
    "        lower_yellow = np.array([18,25,100], dtype=np.uint8)\n",
    "        upper_yellow = np.array([30,220,255], dtype=np.uint8)\n",
    "        yellow_mask = cv2.inRange(hls, lower_yellow, upper_yellow)\n",
    "        final_image = cv2.bitwise_and(hls,hls, mask = white_mask | yellow_mask)\n",
    "#         combined_binary = np.zeros_like(white_mask)\n",
    "#         combined_binary[(white_mask == 255) | (yellow_mask  == 30 )]=1\n",
    "        final_image = cv2.cvtColor( final_image, cv2.COLOR_HLS2BGR)\n",
    "        #final_image = cv2.cvtColor( final_image, cv2.COLOR_BGR2GRAY)\n",
    "        return final_image\n",
    "    else:\n",
    "        print(\"Invalid value for color channel(Can take on )\")\n",
    "        return 0   \n",
    "    return binary"
   ]
  },
  {
   "cell_type": "code",
   "execution_count": null,
   "metadata": {},
   "outputs": [],
   "source": [
    "for image in images_list:\n",
    "    #print(image.split('/', 1 ))\n",
    "    binary=color_channel_filtering(image,\"C\",True)\n",
    "    f, (ax1, ax2) = plt.subplots(1, 2, figsize=(9, 6))\n",
    "    f.tight_layout()\n",
    "    ax1.imshow(cv2.cvtColor( cv2.imread(image), cv2.COLOR_BGR2RGB))\n",
    "    ax1.set_title('Original Image', fontsize=20)\n",
    "    ax2.imshow(binary)\n",
    "    ax2.set_title('Channel yellow and white', fontsize=20)"
   ]
  },
  {
   "cell_type": "code",
   "execution_count": null,
   "metadata": {},
   "outputs": [],
   "source": [
    "for image in images_list:\n",
    "    #print(image.split('/', 1 ))\n",
    "    binary=color_channel_filtering(image,\"S\",True)\n",
    "    f, (ax1, ax2) = plt.subplots(1, 2, figsize=(9, 6))\n",
    "    f.tight_layout()\n",
    "    ax1.imshow(cv2.cvtColor( cv2.imread(image), cv2.COLOR_BGR2RGB))\n",
    "    ax1.set_title('Original Image', fontsize=20)\n",
    "    ax2.imshow(binary, cmap='gray')\n",
    "    ax2.set_title('Channel S', fontsize=20)"
   ]
  },
  {
   "cell_type": "markdown",
   "metadata": {},
   "source": [
    "# 4. Sobel Function , Gradient Thresholds"
   ]
  },
  {
   "cell_type": "code",
   "execution_count": null,
   "metadata": {},
   "outputs": [],
   "source": [
    "def magnitude_sobel_thresh(img, sobel_kernel=3, mag_thresh=(30, 100),read_flag=False): \n",
    "    if read_flag:\n",
    "         image = cv2.cvtColor(cv2.imread(img),cv2.COLOR_RGB2GRAY) \n",
    "    else:\n",
    "        image=img\n",
    "    sobelx = cv2.Sobel(image, cv2.CV_64F, 1, 0,ksize=sobel_kernel)\n",
    "    sobely = cv2.Sobel(image, cv2.CV_64F, 0, 1,ksize=sobel_kernel)\n",
    "    gradmag = np.sqrt(sobelx**2 + sobely**2)\n",
    "    scaled_sobel = np.uint8(255*gradmag/np.max(gradmag))\n",
    "    binary_output = np.zeros_like(scaled_sobel)\n",
    "    binary_output[(scaled_sobel >= mag_thresh[0]) & (scaled_sobel <= mag_thresh[1])] = 1\n",
    "    return binary_output"
   ]
  },
  {
   "cell_type": "code",
   "execution_count": null,
   "metadata": {},
   "outputs": [],
   "source": [
    "def direction_sobel_threshold(img, sobel_kernel=3, thresh=(0, 3.10),read_flag=False):  \n",
    "    if read_flag:\n",
    "         image = cv2.cvtColor(cv2.imread(img),cv2.COLOR_RGB2GRAY) \n",
    "    else:\n",
    "        image=img\n",
    "    sobelx = cv2.Sobel(image, cv2.CV_64F, 1, 0,ksize=sobel_kernel)\n",
    "    sobely = cv2.Sobel(image, cv2.CV_64F, 0, 1,ksize=sobel_kernel)\n",
    "    absgraddir = np.arctan2(np.absolute(sobely), np.absolute(sobelx))\n",
    "    binary_output =  np.zeros_like(absgraddir)\n",
    "    binary_output[(absgraddir >= thresh[0]) & (absgraddir <= thresh[1])] = 1\n",
    "    return binary_output"
   ]
  },
  {
   "cell_type": "code",
   "execution_count": null,
   "metadata": {},
   "outputs": [],
   "source": [
    "def abs_sobel_threshold(img,sobel_kernel=3,axis='x',thresh=(20,100),read_flag=False ):\n",
    "    if read_flag:\n",
    "         image =cv2.cvtColor(cv2.imread(img),cv2.COLOR_RGB2GRAY) \n",
    "    else:\n",
    "        image=img\n",
    "    if axis =='x':\n",
    "        sobel_orient = cv2.Sobel(image, cv2.CV_64F, 1, 0,ksize=sobel_kernel)\n",
    "    elif axis =='y':\n",
    "        sobel_orient = cv2.Sobel(image, cv2.CV_64F, 0, 1,ksize=sobel_kernel)\n",
    "    else:\n",
    "        print(\"Wrong choice\")\n",
    "        return 0 \n",
    "    abs_sobel = np.absolute(sobel_orient) # Absolute x derivative to accentuate lines away from horizontal\n",
    "    scaled_sobel = np.uint8(255*abs_sobel/np.max(abs_sobel))\n",
    "    # Threshold x gradient\n",
    "    sobel_binary = np.zeros_like(scaled_sobel)\n",
    "    sobel_binary[(scaled_sobel >= thresh[0]) & (scaled_sobel <= thresh[1])] = 1  \n",
    "    return sobel_binary "
   ]
  },
  {
   "cell_type": "code",
   "execution_count": null,
   "metadata": {},
   "outputs": [],
   "source": [
    "def combine_all_sobel_threshold(image,convertTo=\"G\",kernal_size=15,read_flag=False):\n",
    "    if read_flag:\n",
    "        img = cv2.cvtColor(cv2.imread(image), cv2.COLOR_BGR2HLS)\n",
    "        img=img[:,:,2]\n",
    "    else:\n",
    "        img=image\n",
    "    if convertTo =='G':\n",
    "        img_con=cv2.cvtColor(img,cv2.COLOR_BGR2RGB)\n",
    "        img_con=cv2.cvtColor(img_con,cv2.COLOR_RGB2GRAY)\n",
    "    else:\n",
    "        img_con=image\n",
    "    img_con=remove_distortion(img_con)\n",
    "    sobel_x=abs_sobel_threshold(img_con,kernal_size,\"x\")\n",
    "    sobel_y=abs_sobel_threshold(img_con,kernal_size,\"y\")\n",
    "    dir_sobel=direction_sobel_threshold(img_con,kernal_size)\n",
    "    mag_sobel=magnitude_sobel_thresh(img_con,kernal_size)\n",
    "    combined_binary = np.zeros_like(dir_sobel)\n",
    "    combined_binary[((sobel_x == 1) & (sobel_y == 1) ) & ((mag_sobel == 1)& (dir_sobel == 1))] = 1\n",
    "    return combined_binary"
   ]
  },
  {
   "cell_type": "code",
   "execution_count": null,
   "metadata": {},
   "outputs": [],
   "source": [
    "for image in images_list:         \n",
    "    #print(image.split('/', 1 ))\n",
    "    img = cv2.imread(image)\n",
    "    img_hsl=cv2.cvtColor(img, cv2.COLOR_BGR2HLS)\n",
    "    L = img_hsl[:,:,2]\n",
    "    #sobel_binary_x=abs_sobel_threshold(image,7,\"x\",(20,100),True)\n",
    "    #sobel_binary_y=abs_sobel_threshold(image,7,\"y\",(20,100),True)   \n",
    "    #dir_sobel=direction_sobel_threshold(image,15,(0.7, 1.3),True)\n",
    "    #mag_sobel=magnitude_sobel_thresh(image,5,(30, 100),True)\n",
    "    #combined_sobel=combine_all_sobel_threshold(image,'G',15,True)\n",
    "    sobel_binary_x=abs_sobel_threshold(L,7,\"x\",(20,100))\n",
    "    sobel_binary_y=abs_sobel_threshold(L,7,\"y\",(20,100))   \n",
    "    dir_sobel=direction_sobel_threshold(L,15,(0.7, 1.3))\n",
    "    mag_sobel=magnitude_sobel_thresh(L,5,(30, 100))\n",
    "    combined_sobel=combine_all_sobel_threshold(L,'I',15)\n",
    "    f, (ax1, ax2,ax3,ax4,ax5,ax6) = plt.subplots(1, 6, figsize=(15, 10))\n",
    "    f.tight_layout()\n",
    "    ax1.imshow(cv2.cvtColor( cv2.imread(image), cv2.COLOR_BGR2GRAY),cmap='gray')\n",
    "    #ax1.imshow(l)\n",
    "    ax1.set_title('Original Image', fontsize=10)\n",
    "    ax2.imshow(sobel_binary_x, cmap='gray')\n",
    "    ax2.set_title('sobel binary x', fontsize=10)\n",
    "    ax3.imshow(sobel_binary_y, cmap='gray')\n",
    "    ax3.set_title('sobel binary y', fontsize=10)\n",
    "    ax4.imshow(dir_sobel, cmap='gray')\n",
    "    ax4.set_title('sobel direction', fontsize=10)\n",
    "    ax5.imshow(mag_sobel, cmap='gray')\n",
    "    ax5.set_title('sobel magnitude', fontsize=10)\n",
    "    ax6.imshow(combined_sobel, cmap='gray')\n",
    "    ax6.set_title('sobel combined', fontsize=10)"
   ]
  },
  {
   "cell_type": "markdown",
   "metadata": {},
   "source": [
    "# Combining Color filtering and Sobel"
   ]
  },
  {
   "cell_type": "code",
   "execution_count": null,
   "metadata": {},
   "outputs": [],
   "source": [
    "# Testing on one image\n",
    "def combine_color_gradient(image,read_flag=False):\n",
    "    if read_flag:\n",
    "        img = cv2.imread(image)\n",
    "    else:\n",
    "        img=image\n",
    "    combine_sobel=combine_all_sobel_threshold(img,\"L\")\n",
    "    color=color_channel_filtering(img)\n",
    "    color_binary = np.dstack(( np.zeros_like(combine_sobel), combine_sobel, color)) * 255\n",
    "    combined_binary = np.zeros_like(combine_sobel)\n",
    "    combined_binary[(color == 1) | (combine_sobel[:,:,0] == 1)] = 1\n",
    "    return combined_binary"
   ]
  },
  {
   "cell_type": "code",
   "execution_count": null,
   "metadata": {},
   "outputs": [],
   "source": [
    "for image in images_list:\n",
    "    com_im=combine_color_gradient(image,True)\n",
    "    plot_images(cv2.cvtColor(cv2.imread(image), cv2.COLOR_BGR2RGB),com_im,1,2,(9,6),\"Original Image\",\"Color+Gradiant Image\",True)"
   ]
  },
  {
   "cell_type": "markdown",
   "metadata": {},
   "source": [
    "# 5.Perspective Transform"
   ]
  },
  {
   "cell_type": "code",
   "execution_count": null,
   "metadata": {},
   "outputs": [],
   "source": [
    "def perspective_transform(image,src, dst,read_flag=False):\n",
    "    if read_flag:\n",
    "        img = cv2.imread(image)\n",
    "    else:\n",
    "        img=image    \n",
    "    img_size = (image.shape[1], image.shape[0])\n",
    "    offset = 0\n",
    "    M = cv2.getPerspectiveTransform(src, dst)\n",
    "    warped = cv2.warpPerspective(image, M, img_size)\n",
    "    src_pt=np.array(src, np.int32)\n",
    "    dst_pt=np.array(dst,np.int32)\n",
    "    #cv2.polylines(remove_dist_img,[src_pt],True,(200,50,0),8)\n",
    "    #cv2.polylines(warped,[dst_pt],True,(200,50,0),8)\n",
    "    return warped"
   ]
  },
  {
   "cell_type": "markdown",
   "metadata": {},
   "source": [
    "# Pre-Processing Pipe Line "
   ]
  },
  {
   "cell_type": "code",
   "execution_count": null,
   "metadata": {},
   "outputs": [],
   "source": [
    "def pre_processing_pipe_line(image,read_flag=False):\n",
    "    if read_flag:\n",
    "        img = cv2.imread(image)\n",
    "    else:\n",
    "        img=image \n",
    "    src = np.float32([(580, 460), (205, 720), (1110, 720), (703, 460)])\n",
    "    dst = np.float32([(320, 0), (320, 720), (960, 720), (960, 0)])\n",
    "    #color_channel=color_channel_filtering(img,\"C\")\n",
    "    com_im=combine_color_gradient(img)\n",
    "    bird_eye_view=perspective_transform(com_im,src,dst)\n",
    "    #pipe_line_image=combine_all_sobel_threshold(bird_eye_view,\"L\")\n",
    "    return bird_eye_view"
   ]
  },
  {
   "cell_type": "code",
   "execution_count": null,
   "metadata": {},
   "outputs": [],
   "source": [
    "for image in images_list:\n",
    "    com_im=pre_processing_pipe_line(image,True)\n",
    "    plot_images(cv2.cvtColor(cv2.imread(image), cv2.COLOR_BGR2RGB),com_im,1,2,(9,6),\"Original Image\",\"Pipelined Image\",True)"
   ]
  },
  {
   "cell_type": "code",
   "execution_count": null,
   "metadata": {},
   "outputs": [],
   "source": [
    "def get_variable_assigned(binary_warped,nwindows):\n",
    "    histogram = np.sum(binary_warped[int(binary_warped.shape[0]/2):,:], axis=0)\n",
    "    out_img = np.dstack((binary_warped, binary_warped, binary_warped))*255\n",
    "    midpoint = np.int(histogram.shape[0]/2)\n",
    "    leftx_base = np.argmax(histogram[:midpoint])\n",
    "    rightx_base = np.argmax(histogram[midpoint:]) + midpoint\n",
    "    window_height = np.int(binary_warped.shape[0]/nwindows)\n",
    "    return histogram,leftx_base, rightx_base,window_height\n",
    "    "
   ]
  },
  {
   "cell_type": "code",
   "execution_count": null,
   "metadata": {},
   "outputs": [],
   "source": [
    "test= glob.glob('test_images/straight_lines2.jpg')\n",
    "for image in test:\n",
    "    #img = cv2.imread(image)\n",
    "    wr=pre_processing_pipe_line(image,True)\n",
    "    histogram,leftx_base, rightx_base,window_height=get_variable_assigned(wr,9)"
   ]
  },
  {
   "cell_type": "code",
   "execution_count": null,
   "metadata": {},
   "outputs": [],
   "source": [
    "print(leftx_base, rightx_base,window_height)\n",
    "plt.plot(histogram)"
   ]
  },
  {
   "cell_type": "code",
   "execution_count": null,
   "metadata": {},
   "outputs": [],
   "source": [
    "def finding_lanes(image,no_windows=9,read_flag=False):\n",
    "    warped=perspective_transform(image,src,dst,read_flag)\n",
    "    histogram,leftx_base, rightx_base,window_height=get_variable_assigned(no_windows,9)\n",
    "    #This stores the x.y coordinate where the image is having non-zero values\n",
    "    nonzero = binary_warped.nonzero()\n",
    "    #To get all the non-zero values for the y-coordinate \n",
    "    y_pts_nonzero = np.array(nonzero[0])\n",
    "    #To get all the non-zero values for the x-coordinate \n",
    "    x_pts_nonzero = np.array(nonzero[1])\n",
    "    "
   ]
  }
 ],
 "metadata": {
  "kernelspec": {
   "display_name": "Python 3",
   "language": "python",
   "name": "python3"
  },
  "language_info": {
   "codemirror_mode": {
    "name": "ipython",
    "version": 3
   },
   "file_extension": ".py",
   "mimetype": "text/x-python",
   "name": "python",
   "nbconvert_exporter": "python",
   "pygments_lexer": "ipython3",
   "version": "3.5.2"
  },
  "widgets": {
   "state": {},
   "version": "1.1.2"
  }
 },
 "nbformat": 4,
 "nbformat_minor": 2
}
